{
 "cells": [
  {
   "cell_type": "code",
   "execution_count": 3,
   "id": "303313dd",
   "metadata": {},
   "outputs": [],
   "source": [
    "import os, cv2\n",
    "import numpy as np\n",
    "from PIL import Image, ImageStat, ImageOps"
   ]
  },
  {
   "cell_type": "code",
   "execution_count": 4,
   "id": "b89ee990",
   "metadata": {},
   "outputs": [],
   "source": [
    "def resize ( data_dir, dest_dir ) :\n",
    "    num = 1\n",
    "    for file in os.listdir( data_dir ):\n",
    "        if( file.endswith(('.jpg', 'jpeg', 'png')) ):\n",
    "\n",
    "            # print( file )\n",
    "            img = Image.open( os.path.join(data_dir, file) )\n",
    "\n",
    "            if img.mode in ('RGBA', 'LA') or (img.mode == 'P' and 'transparency' in img.info):\n",
    "                # Create a new background img with the specified fill color and size of the original img\n",
    "                background = Image.new(\"RGB\", img.size, (255,255,255))\n",
    "\n",
    "                if img.mode == 'P':\n",
    "                    alpha = img.convert(\"RGBA\").split()[3]  # Extract alpha channel from RGBA conversion\n",
    "                else:\n",
    "                    alpha = img.split()[3] \n",
    "                \n",
    "                background.paste(img, mask=alpha)  # 3 is the alpha channel\n",
    "                img = background\n",
    "            else:\n",
    "                # If no alpha channel, just convert to RGB\n",
    "                img = img.convert('RGB')\n",
    "            \n",
    "            width, height = img.size\n",
    "            size = min (width, height)\n",
    "            left = (width - size) / 2\n",
    "            top = (height - size) / 2\n",
    "            right = (width + size) / 2\n",
    "            bottom = (height + size) / 2\n",
    "            img = img.crop((left, top, right, bottom))\n",
    "            \n",
    "            img = img.resize( (224, 224) )\n",
    "        \n",
    "            img_array = np.array( img )\n",
    "            norm_img = cv2.normalize(img_array, None, 0, 255, cv2.NORM_MINMAX)\n",
    "            img = Image.fromarray( norm_img )\n",
    "            img = img.convert(\"RGB\")\n",
    "        \n",
    "            img.save( os.path.join(dest_dir, f\"img_{num}.jpg\" ), \"JPEG\")\n",
    "                \n",
    "            num += 1\n",
    "    \n",
    "    # stat = ImageStat.Stat(img)\n",
    "    # img = ( img - stat.mean ) / stat.stddev"
   ]
  },
  {
   "cell_type": "code",
   "execution_count": 5,
   "id": "5e140e93-9763-4ec9-a7a7-4d1dfcb54302",
   "metadata": {},
   "outputs": [],
   "source": [
    "# Data Augmentation\n",
    "def augment( path ) :\n",
    "    hflipn = len( os.listdir( path ) ) + 1\n",
    "    vflipn = 2 * ( hflipn - 1 ) + 1\n",
    "    rotn = 3 * ( hflipn - 1 ) + 1\n",
    "    \n",
    "    for file in os.listdir(path):\n",
    "        if( file.endswith( ('.jpg', '.jpeg', 'png') ) ):\n",
    "            image = Image.open( os.path.join( path, file ) )\n",
    "            image = image.convert( \"RGB\" )\n",
    "            # image = ImageOps.grayscale( image )                    GrayScale Conversion\n",
    "            hflip = image.transpose( Image.FLIP_LEFT_RIGHT )\n",
    "            vflip = image.transpose( Image.FLIP_TOP_BOTTOM )\n",
    "            rot = image.rotate( np.random.choice( [90, 180, 270] ) )\n",
    "\n",
    "            hflip.save( os.path.join( path, f\"img_{hflipn}.jpg\" ), \"JPEG\")\n",
    "            vflip.save( os.path.join( path, f\"img_{vflipn}.jpg\" ), \"JPEG\")\n",
    "            rot.save( os.path.join( path, f\"img_{rotn}.jpg\" ), \"JPEG\")\n",
    "            hflipn += 1\n",
    "            vflipn += 1\n",
    "            rotn += 1\n",
    "        "
   ]
  },
  {
   "cell_type": "code",
   "execution_count": 6,
   "id": "22552e27-72f1-48bc-b23e-91ec040e578c",
   "metadata": {},
   "outputs": [],
   "source": [
    "def prepare( data, dest ):\n",
    "    print( 'Classes in Dataset for Preprocessing :')\n",
    "    for dir in os.listdir( data ):\n",
    "        source = os.path.join( data, dir)\n",
    "        result = os.path.join( dest, dir)\n",
    "        \n",
    "        if( os.path.isdir( source ) ):\n",
    "            os.makedirs( result )\n",
    "            resize( source, result )\n",
    "\n",
    "            augment( result )\n",
    "            print( f'{dir} : Done ✅' )"
   ]
  },
  {
   "cell_type": "code",
   "execution_count": 8,
   "id": "32169c34",
   "metadata": {
    "scrolled": true
   },
   "outputs": [
    {
     "name": "stdout",
     "output_type": "stream",
     "text": [
      "Classes in Dataset for Preprocessing :\n",
      "CSK : Done ✅\n",
      "DC : Done ✅\n",
      "GT : Done ✅\n",
      "KKR : Done ✅\n",
      "LSG : Done ✅\n",
      "MI : Done ✅\n",
      "PK : Done ✅\n",
      "RCB : Done ✅\n",
      "RR : Done ✅\n",
      "SRH : Done ✅\n"
     ]
    }
   ],
   "source": [
    "data_dir = r'datasets\\unprocessed'\n",
    "dest_dir = r'datasets\\IPL_DS'\n",
    "        \n",
    "prepare( data_dir, dest_dir)"
   ]
  },
  {
   "cell_type": "code",
   "execution_count": 9,
   "id": "0de617c1",
   "metadata": {},
   "outputs": [
    {
     "name": "stdout",
     "output_type": "stream",
     "text": [
      "Total images in train set: 4892\n",
      "Total images in test set: 868\n"
     ]
    }
   ],
   "source": [
    "import os\n",
    "import shutil\n",
    "from sklearn.model_selection import train_test_split\n",
    "\n",
    "dataset_dir = r'datasets\\IPL_DS'\n",
    "train_dir = r'datasets\\IPL_train'\n",
    "test_dir = r'datasets\\IPL_test'\n",
    "test_size = 0.15  # 20% test size\n",
    "\n",
    "# Create train and test directories\n",
    "os.makedirs(train_dir, exist_ok=True)\n",
    "os.makedirs(test_dir, exist_ok=True)\n",
    "\n",
    "# Split and copy images\n",
    "for class_name in os.listdir(dataset_dir):\n",
    "    class_path = os.path.join(dataset_dir, class_name)\n",
    "    if os.path.isdir(class_path):\n",
    "        os.makedirs(os.path.join(train_dir, class_name), exist_ok=True)\n",
    "        os.makedirs(os.path.join(test_dir, class_name), exist_ok=True)\n",
    "        \n",
    "        images = os.listdir(class_path)\n",
    "        train_images, test_images = train_test_split(images, test_size=test_size, random_state=42)\n",
    "        \n",
    "        for image in train_images:\n",
    "            src = os.path.join(class_path, image)\n",
    "            dst = os.path.join(train_dir, class_name, image)\n",
    "            shutil.copyfile(src, dst)\n",
    "        \n",
    "        for image in test_images:\n",
    "            src = os.path.join(class_path, image)\n",
    "            dst = os.path.join(test_dir, class_name, image)\n",
    "            shutil.copyfile(src, dst)\n",
    "\n",
    "def count_images(directory):\n",
    "    count = 0\n",
    "    for class_name in os.listdir(directory):\n",
    "        class_path = os.path.join(directory, class_name)\n",
    "        if os.path.isdir(class_path):\n",
    "            count += len(os.listdir(class_path))\n",
    "    return count\n",
    "\n",
    "print(f'Total images in train set: {count_images(train_dir)}')\n",
    "print(f'Total images in test set: {count_images(test_dir)}')\n"
   ]
  },
  {
   "cell_type": "code",
   "execution_count": null,
   "id": "0caf9bcf-b4a5-4bd0-ac63-55e5818d8a19",
   "metadata": {},
   "outputs": [],
   "source": []
  }
 ],
 "metadata": {
  "kernelspec": {
   "display_name": "Python 3 (ipykernel)",
   "language": "python",
   "name": "python3"
  },
  "language_info": {
   "codemirror_mode": {
    "name": "ipython",
    "version": 3
   },
   "file_extension": ".py",
   "mimetype": "text/x-python",
   "name": "python",
   "nbconvert_exporter": "python",
   "pygments_lexer": "ipython3",
   "version": "3.11.9"
  }
 },
 "nbformat": 4,
 "nbformat_minor": 5
}
